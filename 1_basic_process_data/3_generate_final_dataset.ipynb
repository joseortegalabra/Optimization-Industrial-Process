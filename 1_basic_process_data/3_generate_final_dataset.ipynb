{
 "cells": [
  {
   "cell_type": "markdown",
   "id": "4a82ba84",
   "metadata": {},
   "source": [
    "# Limpieza data raw \"correcta\"\n",
    "\n",
    "- Se toma la data raw \"correcta\", la data preprocessed, que como dice el nombre es la data raw correguido valores nulos por fallas de conexión con PI, setear segundos a cero, etc.\n",
    "\n",
    "- **Limpiezas hechas**:\n",
    "    - Eliminar puntos atípicos - Limpieza por límites operacionales - ej producciones bajas - errores sensores, etc\n",
    "    - Delete null values (generated in the previous steps)\n",
    "\n",
    "-------\n",
    "**DATA**:\n",
    "- INPUT: \"data_raw_processed.pkl\"\n",
    "- OUTPUT: \"data.pkl\""
   ]
  },
  {
   "cell_type": "markdown",
   "id": "62d92244-23e9-46d3-b9d2-155e140b5d19",
   "metadata": {},
   "source": [
    "## Root folder and read env variables"
   ]
  },
  {
   "cell_type": "code",
   "execution_count": 1,
   "id": "5d542e20-ba04-4c72-b5b6-8bdc3101d6a1",
   "metadata": {},
   "outputs": [
    {
     "name": "stdout",
     "output_type": "stream",
     "text": [
      "root path:  D:\\github-mi-repo\\Optimization-Industrial-Process\n"
     ]
    }
   ],
   "source": [
    "import os\n",
    "# fix root path to save outputs\n",
    "actual_path = os.path.abspath(os.getcwd())\n",
    "list_root_path = actual_path.split('\\\\')[:-1]\n",
    "root_path = '\\\\'.join(list_root_path)\n",
    "os.chdir(root_path)\n",
    "print('root path: ', root_path)"
   ]
  },
  {
   "cell_type": "code",
   "execution_count": 2,
   "id": "6e3ec078-792a-408f-af8c-128ad4e31adc",
   "metadata": {},
   "outputs": [],
   "source": [
    "import os\n",
    "from dotenv import load_dotenv, find_dotenv # package used in jupyter notebook to read the variables in file .env\n",
    "\n",
    "\"\"\" get env variable from .env \"\"\"\n",
    "load_dotenv(find_dotenv())\n",
    "\n",
    "\"\"\" Read env variables and save it as python variable \"\"\"\n",
    "PROJECT_GCP = os.environ.get(\"PROJECT_GCP\", \"\")"
   ]
  },
  {
   "cell_type": "code",
   "execution_count": null,
   "id": "edb59fec-8a93-48e8-aa3c-7ab3c2d88f86",
   "metadata": {},
   "outputs": [],
   "source": []
  },
  {
   "cell_type": "markdown",
   "id": "bab3cfcf-5a89-44ca-a2fd-52b9870675cd",
   "metadata": {},
   "source": [
    "## RUN"
   ]
  },
  {
   "cell_type": "code",
   "execution_count": 3,
   "id": "bfccca91",
   "metadata": {},
   "outputs": [],
   "source": [
    "import pandas as pd\n",
    "import numpy as np\n",
    "import datetime as dt\n",
    "import json\n",
    "import pickle\n",
    "from sklearn.pipeline import Pipeline\n",
    "import sys\n",
    "import os\n",
    "import matplotlib.pyplot as plt\n",
    "import gcsfs\n",
    "\n",
    "import warnings\n",
    "warnings.filterwarnings(\"ignore\")\n",
    "\n",
    "from sklearn.base import BaseEstimator, TransformerMixin"
   ]
  },
  {
   "cell_type": "code",
   "execution_count": null,
   "id": "680b5680",
   "metadata": {},
   "outputs": [],
   "source": []
  },
  {
   "cell_type": "code",
   "execution_count": null,
   "id": "29e4eae2",
   "metadata": {},
   "outputs": [],
   "source": []
  },
  {
   "cell_type": "code",
   "execution_count": null,
   "id": "3ec560d4",
   "metadata": {},
   "outputs": [],
   "source": []
  },
  {
   "cell_type": "markdown",
   "id": "748d224d",
   "metadata": {},
   "source": [
    "### 0. Funciones Auxiliares"
   ]
  },
  {
   "cell_type": "code",
   "execution_count": 4,
   "id": "437d587b",
   "metadata": {},
   "outputs": [],
   "source": [
    "# funciones auxiliares\n",
    "def load_all_parameterstags_tagclassification(model_name):\n",
    "    \"\"\"\n",
    "    Read a dictionary with all parameters filtered by model (d0eop, d1d2, d2, etc) located in TagClassification \n",
    "    \"\"\"\n",
    "    path_json = 'config/params.json'\n",
    "    with open(\"{path}\".format(path=path_json)) as json_file:\n",
    "        tag_classification_pars = json.load(json_file)\n",
    "\n",
    "    return tag_classification_pars[model_name]"
   ]
  },
  {
   "cell_type": "code",
   "execution_count": 5,
   "id": "6156ab73",
   "metadata": {},
   "outputs": [],
   "source": [
    "# define name of model - transversal model for this example\n",
    "general_params_models = 'blanqueo_santafe_all'"
   ]
  },
  {
   "cell_type": "code",
   "execution_count": null,
   "id": "a5210237",
   "metadata": {},
   "outputs": [],
   "source": []
  },
  {
   "cell_type": "markdown",
   "id": "3c9e3bbc",
   "metadata": {},
   "source": [
    "### 1. Leer data raw - datalake\n",
    "### 1. Read data raw datalake - preprocessed\n",
    "- Data get in the previous notebook\n",
    "- Data without nulls - filled in previous step for problems in upload data, no conextion PI-datalake, etc"
   ]
  },
  {
   "cell_type": "code",
   "execution_count": 6,
   "id": "f79fbc31",
   "metadata": {},
   "outputs": [
    {
     "data": {
      "text/html": [
       "<div>\n",
       "<style scoped>\n",
       "    .dataframe tbody tr th:only-of-type {\n",
       "        vertical-align: middle;\n",
       "    }\n",
       "\n",
       "    .dataframe tbody tr th {\n",
       "        vertical-align: top;\n",
       "    }\n",
       "\n",
       "    .dataframe thead th {\n",
       "        text-align: right;\n",
       "    }\n",
       "</style>\n",
       "<table border=\"1\" class=\"dataframe\">\n",
       "  <thead>\n",
       "    <tr style=\"text-align: right;\">\n",
       "      <th>Tag</th>\n",
       "      <th>230AIT446.PNT_real</th>\n",
       "      <th>230AIT446.PNT_visto</th>\n",
       "      <th>240AIC022.MEAS_real</th>\n",
       "      <th>240AIC022.MEAS_visto</th>\n",
       "      <th>240AIC126.MEAS_real</th>\n",
       "      <th>240AIC126.MEAS_visto</th>\n",
       "      <th>240AIC224.MEAS_real</th>\n",
       "      <th>240AIC224.MEAS_visto</th>\n",
       "      <th>240AIC286.MEAS_real</th>\n",
       "      <th>240AIC286.MEAS_visto</th>\n",
       "      <th>...</th>\n",
       "      <th>S76ALE017_real</th>\n",
       "      <th>S76ALE017_visto</th>\n",
       "      <th>SSTRIPPING015_real</th>\n",
       "      <th>SSTRIPPING015_visto</th>\n",
       "      <th>calc_prod_d0_real</th>\n",
       "      <th>calc_prod_d0_visto</th>\n",
       "      <th>calc_prod_d1_real</th>\n",
       "      <th>calc_prod_d1_visto</th>\n",
       "      <th>calc_prod_p_real</th>\n",
       "      <th>calc_prod_p_visto</th>\n",
       "    </tr>\n",
       "    <tr>\n",
       "      <th>datetime</th>\n",
       "      <th></th>\n",
       "      <th></th>\n",
       "      <th></th>\n",
       "      <th></th>\n",
       "      <th></th>\n",
       "      <th></th>\n",
       "      <th></th>\n",
       "      <th></th>\n",
       "      <th></th>\n",
       "      <th></th>\n",
       "      <th></th>\n",
       "      <th></th>\n",
       "      <th></th>\n",
       "      <th></th>\n",
       "      <th></th>\n",
       "      <th></th>\n",
       "      <th></th>\n",
       "      <th></th>\n",
       "      <th></th>\n",
       "      <th></th>\n",
       "      <th></th>\n",
       "    </tr>\n",
       "  </thead>\n",
       "  <tbody>\n",
       "    <tr>\n",
       "      <th>2021-01-01 00:05:00</th>\n",
       "      <td>11.555040</td>\n",
       "      <td>11.555040</td>\n",
       "      <td>2.983948</td>\n",
       "      <td>2.983948</td>\n",
       "      <td>11.346645</td>\n",
       "      <td>11.383555</td>\n",
       "      <td>4.413519</td>\n",
       "      <td>4.474995</td>\n",
       "      <td>4.352375</td>\n",
       "      <td>4.430144</td>\n",
       "      <td>...</td>\n",
       "      <td>173.6</td>\n",
       "      <td>173.6</td>\n",
       "      <td>964.0</td>\n",
       "      <td>964.0</td>\n",
       "      <td>3240.8635</td>\n",
       "      <td>3236.897</td>\n",
       "      <td>3313.6215</td>\n",
       "      <td>3236.897</td>\n",
       "      <td>3259.3745</td>\n",
       "      <td>3236.897</td>\n",
       "    </tr>\n",
       "    <tr>\n",
       "      <th>2021-01-01 00:10:00</th>\n",
       "      <td>11.552320</td>\n",
       "      <td>11.552320</td>\n",
       "      <td>3.015669</td>\n",
       "      <td>3.015669</td>\n",
       "      <td>11.353215</td>\n",
       "      <td>11.409505</td>\n",
       "      <td>4.413179</td>\n",
       "      <td>4.469886</td>\n",
       "      <td>4.347186</td>\n",
       "      <td>4.430980</td>\n",
       "      <td>...</td>\n",
       "      <td>173.6</td>\n",
       "      <td>173.6</td>\n",
       "      <td>964.0</td>\n",
       "      <td>964.0</td>\n",
       "      <td>3260.7475</td>\n",
       "      <td>3248.432</td>\n",
       "      <td>3301.6920</td>\n",
       "      <td>3248.432</td>\n",
       "      <td>3208.6785</td>\n",
       "      <td>3248.432</td>\n",
       "    </tr>\n",
       "    <tr>\n",
       "      <th>2021-01-01 00:15:00</th>\n",
       "      <td>11.549955</td>\n",
       "      <td>11.549955</td>\n",
       "      <td>3.018903</td>\n",
       "      <td>3.018903</td>\n",
       "      <td>11.355525</td>\n",
       "      <td>11.405635</td>\n",
       "      <td>4.408321</td>\n",
       "      <td>4.481667</td>\n",
       "      <td>4.355828</td>\n",
       "      <td>4.441149</td>\n",
       "      <td>...</td>\n",
       "      <td>173.6</td>\n",
       "      <td>173.6</td>\n",
       "      <td>964.0</td>\n",
       "      <td>964.0</td>\n",
       "      <td>3265.5765</td>\n",
       "      <td>3222.399</td>\n",
       "      <td>3284.1330</td>\n",
       "      <td>3222.399</td>\n",
       "      <td>3210.7790</td>\n",
       "      <td>3222.399</td>\n",
       "    </tr>\n",
       "  </tbody>\n",
       "</table>\n",
       "<p>3 rows × 128 columns</p>\n",
       "</div>"
      ],
      "text/plain": [
       "Tag                  230AIT446.PNT_real  230AIT446.PNT_visto  \\\n",
       "datetime                                                       \n",
       "2021-01-01 00:05:00           11.555040            11.555040   \n",
       "2021-01-01 00:10:00           11.552320            11.552320   \n",
       "2021-01-01 00:15:00           11.549955            11.549955   \n",
       "\n",
       "Tag                  240AIC022.MEAS_real  240AIC022.MEAS_visto  \\\n",
       "datetime                                                         \n",
       "2021-01-01 00:05:00             2.983948              2.983948   \n",
       "2021-01-01 00:10:00             3.015669              3.015669   \n",
       "2021-01-01 00:15:00             3.018903              3.018903   \n",
       "\n",
       "Tag                  240AIC126.MEAS_real  240AIC126.MEAS_visto  \\\n",
       "datetime                                                         \n",
       "2021-01-01 00:05:00            11.346645             11.383555   \n",
       "2021-01-01 00:10:00            11.353215             11.409505   \n",
       "2021-01-01 00:15:00            11.355525             11.405635   \n",
       "\n",
       "Tag                  240AIC224.MEAS_real  240AIC224.MEAS_visto  \\\n",
       "datetime                                                         \n",
       "2021-01-01 00:05:00             4.413519              4.474995   \n",
       "2021-01-01 00:10:00             4.413179              4.469886   \n",
       "2021-01-01 00:15:00             4.408321              4.481667   \n",
       "\n",
       "Tag                  240AIC286.MEAS_real  240AIC286.MEAS_visto  ...  \\\n",
       "datetime                                                        ...   \n",
       "2021-01-01 00:05:00             4.352375              4.430144  ...   \n",
       "2021-01-01 00:10:00             4.347186              4.430980  ...   \n",
       "2021-01-01 00:15:00             4.355828              4.441149  ...   \n",
       "\n",
       "Tag                  S76ALE017_real  S76ALE017_visto  SSTRIPPING015_real  \\\n",
       "datetime                                                                   \n",
       "2021-01-01 00:05:00           173.6            173.6               964.0   \n",
       "2021-01-01 00:10:00           173.6            173.6               964.0   \n",
       "2021-01-01 00:15:00           173.6            173.6               964.0   \n",
       "\n",
       "Tag                  SSTRIPPING015_visto  calc_prod_d0_real  \\\n",
       "datetime                                                      \n",
       "2021-01-01 00:05:00                964.0          3240.8635   \n",
       "2021-01-01 00:10:00                964.0          3260.7475   \n",
       "2021-01-01 00:15:00                964.0          3265.5765   \n",
       "\n",
       "Tag                  calc_prod_d0_visto  calc_prod_d1_real  \\\n",
       "datetime                                                     \n",
       "2021-01-01 00:05:00            3236.897          3313.6215   \n",
       "2021-01-01 00:10:00            3248.432          3301.6920   \n",
       "2021-01-01 00:15:00            3222.399          3284.1330   \n",
       "\n",
       "Tag                  calc_prod_d1_visto  calc_prod_p_real  calc_prod_p_visto  \n",
       "datetime                                                                      \n",
       "2021-01-01 00:05:00            3236.897         3259.3745           3236.897  \n",
       "2021-01-01 00:10:00            3248.432         3208.6785           3248.432  \n",
       "2021-01-01 00:15:00            3222.399         3210.7790           3222.399  \n",
       "\n",
       "[3 rows x 128 columns]"
      ]
     },
     "execution_count": 6,
     "metadata": {},
     "output_type": "execute_result"
    }
   ],
   "source": [
    "path_raw_processed_data = f'artifacts/data/data_raw_processed.pkl'\n",
    "processed_data = pd.read_pickle(path_raw_processed_data)\n",
    "processed_data.head(3)"
   ]
  },
  {
   "cell_type": "code",
   "execution_count": null,
   "id": "608e676f",
   "metadata": {},
   "outputs": [],
   "source": []
  },
  {
   "cell_type": "markdown",
   "id": "6f6a0b4e",
   "metadata": {},
   "source": [
    "## FINAL STEP: DELETE OUTLIERS\n",
    "Filters:\n",
    "- Operational Limits of the industrial process\n",
    "- other thecniques to delete outliers"
   ]
  },
  {
   "cell_type": "code",
   "execution_count": null,
   "id": "c0984ac2",
   "metadata": {},
   "outputs": [],
   "source": []
  },
  {
   "cell_type": "code",
   "execution_count": null,
   "id": "a29c8da6",
   "metadata": {},
   "outputs": [],
   "source": []
  },
  {
   "cell_type": "markdown",
   "id": "13165fd4",
   "metadata": {},
   "source": [
    "### 9. Cleaning data according operational ranges - delete outliers"
   ]
  },
  {
   "cell_type": "code",
   "execution_count": 7,
   "id": "f8dacc52",
   "metadata": {},
   "outputs": [],
   "source": [
    "class OperationalRange(BaseEstimator,TransformerMixin):\n",
    "    '''\n",
    "    A class to delete the observations when a value of a certain tags is out of the range defined in the plant. Its is realized for each column independently\n",
    "    '''\n",
    "    def __init__(self, RangeDataFrame,outputCol):\n",
    "        super(OperationalRange,self).__init__()\n",
    "        self.RangeDataFrame = RangeDataFrame\n",
    "        self.tags = RangeDataFrame[\"Tag\"].tolist()\n",
    "        self.outputCol = outputCol\n",
    "    \n",
    "    def fit(self,DataFrame):\n",
    "        return self\n",
    "    \n",
    "    def intersection(self, lst1, lst2):\n",
    "        '''\n",
    "        Auxiliar function\n",
    "        Return the intersection of strings between two diferents lists\n",
    "        '''\n",
    "        return [value for value in lst1 if value in lst2]\n",
    "    \n",
    "    def transform(self,DataFrame):\n",
    "        print('\\naplicando limpieza de acuerdo a los rangos operacionales')\n",
    "        \n",
    "        tagsList = self.intersection(lst1 = DataFrame.columns.to_list(),\n",
    "                                     lst2 = self.tags)\n",
    "        for tag in tagsList:\n",
    "            lim_inf = self.RangeDataFrame[\"lim_inf\"][self.RangeDataFrame[\"Tag\"]==tag].tolist()[0]\n",
    "            lim_sup = self.RangeDataFrame[\"lim_sup\"][self.RangeDataFrame[\"Tag\"]==tag].tolist()[0]\n",
    "            cond = np.logical_or(DataFrame[tag]<lim_inf, DataFrame[tag]>lim_sup)\n",
    "            DataFrame[tag] = np.where(cond, np.nan, DataFrame[tag])\n",
    "            DataFrame[self.outputCol] = np.where(cond, False, True)\n",
    "            \n",
    "        #info\n",
    "        print('tamaño data: ', DataFrame.shape)\n",
    "        print('\\n% de nulos hasta el momento: ', 100 * (DataFrame.isnull().sum() / DataFrame.shape[0]))\n",
    "        \n",
    "        return DataFrame"
   ]
  },
  {
   "cell_type": "code",
   "execution_count": 8,
   "id": "4b071d30",
   "metadata": {},
   "outputs": [],
   "source": [
    "# parámetros\n",
    "path_operational_limits_df = 'config/limites_operacionales.xlsx'\n",
    "operational_limits_df = pd.read_excel(path_operational_limits_df)   #csv with operational limits\n",
    "pars_operational_range = {\n",
    "        \"RangeDataFrame\": operational_limits_df,\n",
    "        \"outputCol\": \"OperationalRange\",\n",
    "    }"
   ]
  },
  {
   "cell_type": "code",
   "execution_count": 9,
   "id": "4a8cfb66",
   "metadata": {},
   "outputs": [
    {
     "name": "stdout",
     "output_type": "stream",
     "text": [
      "\n",
      "aplicando limpieza de acuerdo a los rangos operacionales\n",
      "tamaño data:  (197568, 128)\n",
      "\n",
      "% de nulos hasta el momento:  Tag\n",
      "230AIT446.PNT_real      0.000000\n",
      "230AIT446.PNT_visto     0.000000\n",
      "240AIC022.MEAS_real     0.000000\n",
      "240AIC022.MEAS_visto    0.000000\n",
      "240AIC126.MEAS_real     0.010123\n",
      "                          ...   \n",
      "calc_prod_d0_visto      0.000000\n",
      "calc_prod_d1_real       0.015185\n",
      "calc_prod_d1_visto      0.000000\n",
      "calc_prod_p_real        0.024295\n",
      "calc_prod_p_visto       0.000000\n",
      "Length: 128, dtype: float64\n"
     ]
    }
   ],
   "source": [
    "# instancia de la clase\n",
    "droper_out_operational_range = OperationalRange(**pars_operational_range)\n",
    "\n",
    "# limpieza\n",
    "processed_data = droper_out_operational_range.transform(processed_data)"
   ]
  },
  {
   "cell_type": "code",
   "execution_count": 10,
   "id": "84e0572e",
   "metadata": {},
   "outputs": [
    {
     "name": "stdout",
     "output_type": "stream",
     "text": [
      "tamaño data processed:  197568\n"
     ]
    }
   ],
   "source": [
    "print('tamaño data processed: ', processed_data.shape[0])"
   ]
  },
  {
   "cell_type": "code",
   "execution_count": null,
   "id": "86a9f289",
   "metadata": {},
   "outputs": [],
   "source": []
  },
  {
   "cell_type": "markdown",
   "id": "30063a5d",
   "metadata": {},
   "source": [
    "### 10. Eliminar nulos\n",
    "Drop null values por:\n",
    "- timegap\n",
    "- fuera de rango operacional"
   ]
  },
  {
   "cell_type": "code",
   "execution_count": 11,
   "id": "49499d8e",
   "metadata": {},
   "outputs": [
    {
     "data": {
      "text/plain": [
       "0.09414480077745384"
      ]
     },
     "execution_count": 11,
     "metadata": {},
     "output_type": "execute_result"
    }
   ],
   "source": [
    "# porcentaje de nulos de un tag\n",
    "percent_null = 100 * (processed_data.isnull().sum() / processed_data.shape[0])\n",
    "percent_null.max()"
   ]
  },
  {
   "cell_type": "code",
   "execution_count": 12,
   "id": "72809490",
   "metadata": {},
   "outputs": [
    {
     "name": "stdout",
     "output_type": "stream",
     "text": [
      "tamaño dataset antes de borrar nulos:  (197568, 128)\n",
      "tamaño dataset luego de borrar nulos:  (197382, 128)\n"
     ]
    }
   ],
   "source": [
    "# drop null values\n",
    "print('tamaño dataset antes de borrar nulos: ', processed_data.shape)\n",
    "processed_data = processed_data.dropna()\n",
    "print('tamaño dataset luego de borrar nulos: ', processed_data.shape)"
   ]
  },
  {
   "cell_type": "code",
   "execution_count": null,
   "id": "c37648e5",
   "metadata": {},
   "outputs": [],
   "source": []
  },
  {
   "cell_type": "markdown",
   "id": "2f6efd3b",
   "metadata": {},
   "source": [
    "### 11. GUARDAR PKL PROCESSED"
   ]
  },
  {
   "cell_type": "code",
   "execution_count": 13,
   "id": "d1cdc838",
   "metadata": {},
   "outputs": [],
   "source": [
    "# save data pkl cloud\n",
    "path_raw_data_processed = 'artifacts/data/data.pkl'\n",
    "with open(path_raw_data_processed, \"wb\") as output:\n",
    "    pickle.dump(processed_data, output)\n",
    "    output.close()"
   ]
  },
  {
   "cell_type": "code",
   "execution_count": null,
   "id": "678388dc-0baf-499d-aef3-079666afa336",
   "metadata": {},
   "outputs": [],
   "source": []
  },
  {
   "cell_type": "code",
   "execution_count": null,
   "id": "48ca009b",
   "metadata": {},
   "outputs": [],
   "source": []
  }
 ],
 "metadata": {
  "kernelspec": {
   "display_name": "Python 3 (ipykernel)",
   "language": "python",
   "name": "python3"
  },
  "language_info": {
   "codemirror_mode": {
    "name": "ipython",
    "version": 3
   },
   "file_extension": ".py",
   "mimetype": "text/x-python",
   "name": "python",
   "nbconvert_exporter": "python",
   "pygments_lexer": "ipython3",
   "version": "3.10.12"
  }
 },
 "nbformat": 4,
 "nbformat_minor": 5
}
