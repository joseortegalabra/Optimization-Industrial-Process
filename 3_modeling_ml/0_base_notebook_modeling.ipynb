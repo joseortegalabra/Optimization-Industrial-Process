{
 "cells": [
  {
   "cell_type": "markdown",
   "id": "c43faa4d-db0f-4cd3-a093-19438ecae397",
   "metadata": {},
   "source": [
    "# Modeling {stage}_{target}\n",
    "Using the feautures of the stage {stage} predict the {target} (target)\n",
    "\n",
    "-------\n",
    "**INFO MODEL**\n",
    "- **stage**: d0eop\n",
    "- **target**: microkappa"
   ]
  },
  {
   "cell_type": "markdown",
   "id": "b922bd84-6691-4e5a-92c9-dac5fd7dadbd",
   "metadata": {},
   "source": [
    "## Root folder and read env variables"
   ]
  },
  {
   "cell_type": "code",
   "execution_count": 1,
   "id": "b846b3c3-ef67-4a3c-8b9d-3b3796b61fb3",
   "metadata": {},
   "outputs": [
    {
     "name": "stdout",
     "output_type": "stream",
     "text": [
      "root path:  D:\\github-mi-repo\\Optimization-Industrial-Process\n"
     ]
    }
   ],
   "source": [
    "import os\n",
    "# fix root path to save outputs\n",
    "actual_path = os.path.abspath(os.getcwd())\n",
    "list_root_path = actual_path.split('\\\\')[:-1]\n",
    "root_path = '\\\\'.join(list_root_path)\n",
    "os.chdir(root_path)\n",
    "print('root path: ', root_path)"
   ]
  },
  {
   "cell_type": "code",
   "execution_count": 2,
   "id": "cd3c0576-ebc2-4df8-9bea-50f29844198a",
   "metadata": {},
   "outputs": [],
   "source": [
    "import os\n",
    "from dotenv import load_dotenv, find_dotenv # package used in jupyter notebook to read the variables in file .env\n",
    "\n",
    "\"\"\" get env variable from .env \"\"\"\n",
    "load_dotenv(find_dotenv())\n",
    "\n",
    "\"\"\" Read env variables and save it as python variable \"\"\"\n",
    "PROJECT_GCP = os.environ.get(\"PROJECT_GCP\", \"\")"
   ]
  },
  {
   "cell_type": "code",
   "execution_count": null,
   "id": "e2bab0f8-b9f4-4887-bd70-1790163eab22",
   "metadata": {},
   "outputs": [],
   "source": []
  },
  {
   "cell_type": "markdown",
   "id": "ddd36dbb-2fb7-4476-96ef-b1ef520e3133",
   "metadata": {},
   "source": [
    "## RUN"
   ]
  },
  {
   "cell_type": "code",
   "execution_count": 11,
   "id": "c29ac8e0",
   "metadata": {},
   "outputs": [],
   "source": [
    "import pandas as pd\n",
    "import numpy as np\n",
    "from google.cloud import bigquery\n",
    "import gcsfs\n",
    "import pickle\n",
    "\n",
    "from sklearn.model_selection import train_test_split\n",
    "\n",
    "# models\n",
    "from sklearn.linear_model import LinearRegression # lr\n",
    "from sklearn.linear_model import Ridge # ridge\n",
    "from sklearn.linear_model import Lasso # lasso\n",
    "from sklearn.tree import DecisionTreeRegressor # tree\n",
    "from sklearn.ensemble import GradientBoostingRegressor #gb\n",
    "from sklearn.ensemble import RandomForestRegressor #rf\n",
    "from xgboost import XGBRegressor # xgb\n",
    "from  sklearn.neural_network import MLPRegressor # mlp"
   ]
  },
  {
   "cell_type": "code",
   "execution_count": 4,
   "id": "c30fb690",
   "metadata": {},
   "outputs": [
    {
     "name": "stderr",
     "output_type": "stream",
     "text": [
      "Updated property [core/project].\n"
     ]
    }
   ],
   "source": [
    "### desarrollo\n",
    "\n",
    "PROJECT_ID = PROJECT_GCP\n",
    "! gcloud config set project $PROJECT_ID"
   ]
  },
  {
   "cell_type": "code",
   "execution_count": null,
   "id": "330fcbba-795b-4620-9721-aaa3162bd344",
   "metadata": {},
   "outputs": [],
   "source": []
  },
  {
   "cell_type": "markdown",
   "id": "f42f283e-afc8-42bf-b79f-70dd9384f88a",
   "metadata": {},
   "source": [
    "### 1. Read data"
   ]
  },
  {
   "cell_type": "code",
   "execution_count": 5,
   "id": "3ccee55f",
   "metadata": {},
   "outputs": [
    {
     "data": {
      "text/html": [
       "<div>\n",
       "<style scoped>\n",
       "    .dataframe tbody tr th:only-of-type {\n",
       "        vertical-align: middle;\n",
       "    }\n",
       "\n",
       "    .dataframe tbody tr th {\n",
       "        vertical-align: top;\n",
       "    }\n",
       "\n",
       "    .dataframe thead th {\n",
       "        text-align: right;\n",
       "    }\n",
       "</style>\n",
       "<table border=\"1\" class=\"dataframe\">\n",
       "  <thead>\n",
       "    <tr style=\"text-align: right;\">\n",
       "      <th></th>\n",
       "      <th>230AIT446.PNT</th>\n",
       "      <th>240AIC022.MEAS</th>\n",
       "      <th>240AIC126.MEAS</th>\n",
       "      <th>240AIC224.MEAS</th>\n",
       "      <th>240AIC286.MEAS</th>\n",
       "      <th>240AIC324.MEAS</th>\n",
       "      <th>240AIC433.MEAS</th>\n",
       "      <th>240AIT063A.PNT</th>\n",
       "      <th>240AIT063B.PNT</th>\n",
       "      <th>240AIT225A.PNT</th>\n",
       "      <th>...</th>\n",
       "      <th>S240ALDP022</th>\n",
       "      <th>S240ALDP031</th>\n",
       "      <th>S240ALDP032</th>\n",
       "      <th>S276PER002</th>\n",
       "      <th>S2MAQUINAT07</th>\n",
       "      <th>S76ALE017</th>\n",
       "      <th>SSTRIPPING015</th>\n",
       "      <th>calc_prod_d0</th>\n",
       "      <th>calc_prod_d1</th>\n",
       "      <th>calc_prod_p</th>\n",
       "    </tr>\n",
       "    <tr>\n",
       "      <th>datetime</th>\n",
       "      <th></th>\n",
       "      <th></th>\n",
       "      <th></th>\n",
       "      <th></th>\n",
       "      <th></th>\n",
       "      <th></th>\n",
       "      <th></th>\n",
       "      <th></th>\n",
       "      <th></th>\n",
       "      <th></th>\n",
       "      <th></th>\n",
       "      <th></th>\n",
       "      <th></th>\n",
       "      <th></th>\n",
       "      <th></th>\n",
       "      <th></th>\n",
       "      <th></th>\n",
       "      <th></th>\n",
       "      <th></th>\n",
       "      <th></th>\n",
       "      <th></th>\n",
       "    </tr>\n",
       "  </thead>\n",
       "  <tbody>\n",
       "    <tr>\n",
       "      <th>2021-01-01 00:05:00</th>\n",
       "      <td>11.555040</td>\n",
       "      <td>2.983948</td>\n",
       "      <td>11.346645</td>\n",
       "      <td>4.413519</td>\n",
       "      <td>4.352375</td>\n",
       "      <td>10.441675</td>\n",
       "      <td>4.292521</td>\n",
       "      <td>5.869320</td>\n",
       "      <td>62.37495</td>\n",
       "      <td>1.837519</td>\n",
       "      <td>...</td>\n",
       "      <td>91.49</td>\n",
       "      <td>1.8</td>\n",
       "      <td>11.4</td>\n",
       "      <td>11.77</td>\n",
       "      <td>1.5712</td>\n",
       "      <td>173.6</td>\n",
       "      <td>964.0</td>\n",
       "      <td>3240.8635</td>\n",
       "      <td>3313.6215</td>\n",
       "      <td>3259.3745</td>\n",
       "    </tr>\n",
       "    <tr>\n",
       "      <th>2021-01-01 00:10:00</th>\n",
       "      <td>11.552320</td>\n",
       "      <td>3.015669</td>\n",
       "      <td>11.353215</td>\n",
       "      <td>4.413179</td>\n",
       "      <td>4.347186</td>\n",
       "      <td>10.432170</td>\n",
       "      <td>4.289684</td>\n",
       "      <td>5.869320</td>\n",
       "      <td>62.37495</td>\n",
       "      <td>1.814020</td>\n",
       "      <td>...</td>\n",
       "      <td>91.49</td>\n",
       "      <td>1.8</td>\n",
       "      <td>11.4</td>\n",
       "      <td>11.77</td>\n",
       "      <td>1.5712</td>\n",
       "      <td>173.6</td>\n",
       "      <td>964.0</td>\n",
       "      <td>3260.7475</td>\n",
       "      <td>3301.6920</td>\n",
       "      <td>3208.6785</td>\n",
       "    </tr>\n",
       "    <tr>\n",
       "      <th>2021-01-01 00:15:00</th>\n",
       "      <td>11.549955</td>\n",
       "      <td>3.018903</td>\n",
       "      <td>11.355525</td>\n",
       "      <td>4.408321</td>\n",
       "      <td>4.355828</td>\n",
       "      <td>10.410115</td>\n",
       "      <td>4.284427</td>\n",
       "      <td>5.869320</td>\n",
       "      <td>62.37495</td>\n",
       "      <td>1.814020</td>\n",
       "      <td>...</td>\n",
       "      <td>91.49</td>\n",
       "      <td>1.8</td>\n",
       "      <td>11.4</td>\n",
       "      <td>11.77</td>\n",
       "      <td>1.5712</td>\n",
       "      <td>173.6</td>\n",
       "      <td>964.0</td>\n",
       "      <td>3265.5765</td>\n",
       "      <td>3284.1330</td>\n",
       "      <td>3210.7790</td>\n",
       "    </tr>\n",
       "    <tr>\n",
       "      <th>2021-01-01 00:20:00</th>\n",
       "      <td>11.547145</td>\n",
       "      <td>3.001164</td>\n",
       "      <td>11.326725</td>\n",
       "      <td>4.408659</td>\n",
       "      <td>4.361292</td>\n",
       "      <td>10.379145</td>\n",
       "      <td>4.285478</td>\n",
       "      <td>5.835750</td>\n",
       "      <td>62.37495</td>\n",
       "      <td>1.814020</td>\n",
       "      <td>...</td>\n",
       "      <td>91.49</td>\n",
       "      <td>1.7</td>\n",
       "      <td>11.3</td>\n",
       "      <td>11.77</td>\n",
       "      <td>1.5712</td>\n",
       "      <td>173.6</td>\n",
       "      <td>964.0</td>\n",
       "      <td>3253.7750</td>\n",
       "      <td>3271.9260</td>\n",
       "      <td>3221.7745</td>\n",
       "    </tr>\n",
       "    <tr>\n",
       "      <th>2021-01-01 00:25:00</th>\n",
       "      <td>11.543160</td>\n",
       "      <td>3.017393</td>\n",
       "      <td>11.336345</td>\n",
       "      <td>4.408596</td>\n",
       "      <td>4.356374</td>\n",
       "      <td>10.387205</td>\n",
       "      <td>4.304148</td>\n",
       "      <td>5.802179</td>\n",
       "      <td>62.37495</td>\n",
       "      <td>1.814020</td>\n",
       "      <td>...</td>\n",
       "      <td>91.49</td>\n",
       "      <td>1.6</td>\n",
       "      <td>11.2</td>\n",
       "      <td>11.77</td>\n",
       "      <td>1.5712</td>\n",
       "      <td>173.6</td>\n",
       "      <td>964.0</td>\n",
       "      <td>3236.9790</td>\n",
       "      <td>3267.3050</td>\n",
       "      <td>3227.6935</td>\n",
       "    </tr>\n",
       "  </tbody>\n",
       "</table>\n",
       "<p>5 rows × 64 columns</p>\n",
       "</div>"
      ],
      "text/plain": [
       "                     230AIT446.PNT  240AIC022.MEAS  240AIC126.MEAS  \\\n",
       "datetime                                                             \n",
       "2021-01-01 00:05:00      11.555040        2.983948       11.346645   \n",
       "2021-01-01 00:10:00      11.552320        3.015669       11.353215   \n",
       "2021-01-01 00:15:00      11.549955        3.018903       11.355525   \n",
       "2021-01-01 00:20:00      11.547145        3.001164       11.326725   \n",
       "2021-01-01 00:25:00      11.543160        3.017393       11.336345   \n",
       "\n",
       "                     240AIC224.MEAS  240AIC286.MEAS  240AIC324.MEAS  \\\n",
       "datetime                                                              \n",
       "2021-01-01 00:05:00        4.413519        4.352375       10.441675   \n",
       "2021-01-01 00:10:00        4.413179        4.347186       10.432170   \n",
       "2021-01-01 00:15:00        4.408321        4.355828       10.410115   \n",
       "2021-01-01 00:20:00        4.408659        4.361292       10.379145   \n",
       "2021-01-01 00:25:00        4.408596        4.356374       10.387205   \n",
       "\n",
       "                     240AIC433.MEAS  240AIT063A.PNT  240AIT063B.PNT  \\\n",
       "datetime                                                              \n",
       "2021-01-01 00:05:00        4.292521        5.869320        62.37495   \n",
       "2021-01-01 00:10:00        4.289684        5.869320        62.37495   \n",
       "2021-01-01 00:15:00        4.284427        5.869320        62.37495   \n",
       "2021-01-01 00:20:00        4.285478        5.835750        62.37495   \n",
       "2021-01-01 00:25:00        4.304148        5.802179        62.37495   \n",
       "\n",
       "                     240AIT225A.PNT  ...  S240ALDP022  S240ALDP031  \\\n",
       "datetime                             ...                             \n",
       "2021-01-01 00:05:00        1.837519  ...        91.49          1.8   \n",
       "2021-01-01 00:10:00        1.814020  ...        91.49          1.8   \n",
       "2021-01-01 00:15:00        1.814020  ...        91.49          1.8   \n",
       "2021-01-01 00:20:00        1.814020  ...        91.49          1.7   \n",
       "2021-01-01 00:25:00        1.814020  ...        91.49          1.6   \n",
       "\n",
       "                     S240ALDP032  S276PER002  S2MAQUINAT07  S76ALE017  \\\n",
       "datetime                                                                \n",
       "2021-01-01 00:05:00         11.4       11.77        1.5712      173.6   \n",
       "2021-01-01 00:10:00         11.4       11.77        1.5712      173.6   \n",
       "2021-01-01 00:15:00         11.4       11.77        1.5712      173.6   \n",
       "2021-01-01 00:20:00         11.3       11.77        1.5712      173.6   \n",
       "2021-01-01 00:25:00         11.2       11.77        1.5712      173.6   \n",
       "\n",
       "                     SSTRIPPING015  calc_prod_d0  calc_prod_d1  calc_prod_p  \n",
       "datetime                                                                     \n",
       "2021-01-01 00:05:00          964.0     3240.8635     3313.6215    3259.3745  \n",
       "2021-01-01 00:10:00          964.0     3260.7475     3301.6920    3208.6785  \n",
       "2021-01-01 00:15:00          964.0     3265.5765     3284.1330    3210.7790  \n",
       "2021-01-01 00:20:00          964.0     3253.7750     3271.9260    3221.7745  \n",
       "2021-01-01 00:25:00          964.0     3236.9790     3267.3050    3227.6935  \n",
       "\n",
       "[5 rows x 64 columns]"
      ]
     },
     "execution_count": 5,
     "metadata": {},
     "output_type": "execute_result"
    }
   ],
   "source": [
    "path_data = 'artifacts/data/data.pkl'\n",
    "data = pd.read_pickle(path_data)\n",
    "data.head()"
   ]
  },
  {
   "cell_type": "code",
   "execution_count": null,
   "id": "18e6df51-6b06-4795-bdd3-d0fc2d04fe8b",
   "metadata": {},
   "outputs": [],
   "source": []
  },
  {
   "cell_type": "markdown",
   "id": "7b915979-7a5d-4f73-9192-08d4ca86d7ed",
   "metadata": {},
   "source": [
    "### 2. Read master tags data for this stage"
   ]
  },
  {
   "cell_type": "code",
   "execution_count": 9,
   "id": "356b07f7-b2c0-4d24-bcf2-d2f8bb20cdff",
   "metadata": {},
   "outputs": [],
   "source": [
    "stage = 'd0eop'\n",
    "path_maestro_tags_d0eop = f'config/config_models/MaestroTags-{stage}-general.xlsx'\n",
    "maestro_tags = pd.read_excel(path_maestro_tags_d0eop)\n",
    "#maestro_tags"
   ]
  },
  {
   "cell_type": "code",
   "execution_count": null,
   "id": "6f660d3f-0848-4a12-ac70-d0f88aa6f148",
   "metadata": {},
   "outputs": [],
   "source": []
  },
  {
   "cell_type": "markdown",
   "id": "6237c0a7-4166-43cd-8a07-63b2b5895fb5",
   "metadata": {},
   "source": [
    "### 3. Define target\n",
    "All the stages could have multiple targets. But with the models supported by gurobi only accept models that predict one target"
   ]
  },
  {
   "cell_type": "code",
   "execution_count": 7,
   "id": "25dff5a7-942e-4ae0-9ba5-d6e1a96b8d98",
   "metadata": {},
   "outputs": [],
   "source": [
    "list_target = ['XXXX']"
   ]
  },
  {
   "cell_type": "code",
   "execution_count": null,
   "id": "98d4ef80-a991-4a85-b618-8a0d16e40ba3",
   "metadata": {},
   "outputs": [],
   "source": []
  },
  {
   "cell_type": "markdown",
   "id": "2cc20611-ebbc-409e-bf38-32b1fc741030",
   "metadata": {},
   "source": [
    "### 4. Define features\n",
    "In the exploratory data analysis you should select the features that will be use to predict the target. In this example, this features are defined manually in a list"
   ]
  },
  {
   "cell_type": "code",
   "execution_count": 8,
   "id": "1012da94-42b4-4144-883f-ac16d882ced1",
   "metadata": {},
   "outputs": [],
   "source": [
    "list_features = []"
   ]
  },
  {
   "cell_type": "code",
   "execution_count": 10,
   "id": "a183b642-dc8e-4c3f-bd8a-b9af4dd8e9fe",
   "metadata": {},
   "outputs": [],
   "source": [
    "list_features_controlables = []"
   ]
  },
  {
   "cell_type": "code",
   "execution_count": null,
   "id": "a5921b7b-213a-4333-85f8-f2fe9c7a92ce",
   "metadata": {},
   "outputs": [],
   "source": []
  }
 ],
 "metadata": {
  "kernelspec": {
   "display_name": "Python 3 (ipykernel)",
   "language": "python",
   "name": "python3"
  },
  "language_info": {
   "codemirror_mode": {
    "name": "ipython",
    "version": 3
   },
   "file_extension": ".py",
   "mimetype": "text/x-python",
   "name": "python",
   "nbconvert_exporter": "python",
   "pygments_lexer": "ipython3",
   "version": "3.10.12"
  }
 },
 "nbformat": 4,
 "nbformat_minor": 5
}
